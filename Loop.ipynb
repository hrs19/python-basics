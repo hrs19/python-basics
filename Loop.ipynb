{
 "cells": [
  {
   "cell_type": "markdown",
   "metadata": {},
   "source": [
    "# Iterations / Looping\n",
    "\n",
    "In computer programming, a loop is a sequence of instructions that is continually repeated until a certain condition is reached. Typically, a certain process is done, such as getting an item of data and changing it, and then some condition is checked such as whether a counter has reached a prescribed number.\n"
   ]
  },
  {
   "cell_type": "code",
   "execution_count": null,
   "metadata": {},
   "outputs": [],
   "source": [
    "x = 0\n",
    "x = x + 1\n",
    "print(x)"
   ]
  },
  {
   "cell_type": "markdown",
   "metadata": {},
   "source": [
    "# The while statement\n",
    "\n",
    "Computers are often used to automate repetitive tasks. Repeating identical or\n",
    "similar tasks without making errors is something that computers do well and people\n",
    "do poorly. Because iteration is so common, Python provides several language\n",
    "features to make it easier.\n",
    "\n",
    "### syntax:\n",
    "\n",
    "while expression:\n",
    "> statement(s) \n",
    "\n",
    "out of loop"
   ]
  },
  {
   "cell_type": "code",
   "execution_count": null,
   "metadata": {},
   "outputs": [],
   "source": [
    "n = 5\n",
    "while n > 0:\n",
    "    print(n)\n",
    "    n = n - 1\n",
    "print('Timeout!')"
   ]
  },
  {
   "cell_type": "markdown",
   "metadata": {},
   "source": [
    "The body of the loop should change the value of one or more variables so that\n",
    "eventually the condition becomes false and the loop terminates. We call the variable\n",
    "that changes each time the loop executes and controls when the loop finishes\n",
    "the iteration variable. If there is no iteration variable, the loop will repeat forever,\n",
    "resulting in an infinite loop"
   ]
  },
  {
   "cell_type": "markdown",
   "metadata": {},
   "source": [
    "# Infinite loops\n",
    "When a programmer wants an application to do same task repeatedly forever. He must use infinite loop for the purpose. Nearly all applications are in infinite loop, that accept user input continuously, process the input and generate some output until user manually exit from the application\n",
    "\n"
   ]
  },
  {
   "cell_type": "code",
   "execution_count": null,
   "metadata": {},
   "outputs": [],
   "source": [
    "n = 10\n",
    "while True:\n",
    "    print(n, end=' ')\n",
    "    n = n - 1\n",
    "print('Done!')"
   ]
  },
  {
   "cell_type": "code",
   "execution_count": null,
   "metadata": {},
   "outputs": [],
   "source": [
    "while True:\n",
    "    line = input('> ')\n",
    "    if line == 'done':\n",
    "        break\n",
    "    print(line)\n",
    "print('Done!')"
   ]
  },
  {
   "cell_type": "markdown",
   "metadata": {},
   "source": [
    "# Finishing iterations with continue\n",
    "Sometimes you are in an iteration of a loop and want to finish the current iteration\n",
    "and immediately jump to the next iteration. In that case you can use the continue\n",
    "statement to skip to the next iteration without finishing the body of the loop for\n",
    "the current iteration."
   ]
  },
  {
   "cell_type": "code",
   "execution_count": null,
   "metadata": {},
   "outputs": [],
   "source": [
    "while True:\n",
    "    line = input('> ')\n",
    "    if line[0] == '#':\n",
    "        continue\n",
    "    if line == 'done':\n",
    "        break\n",
    "    print(line)\n",
    "print('Done!')"
   ]
  },
  {
   "cell_type": "markdown",
   "metadata": {},
   "source": [
    "# Definite loops using for\n",
    "\n",
    "Sometimes we want to loop through a set of things such as a list of words, the lines\n",
    "in a file, or a list of numbers. When we have a list of things to loop through, we\n",
    "can construct a definite loop using a for statement. We call the while statement\n",
    "an indefinite loop because it simply loops until some condition becomes False,\n",
    "whereas the for loop is looping through a known set of items so it runs through\n",
    "as many iterations as there are items in the set.\n",
    "\n",
    "### syntax:\n",
    "\n",
    "for iterating_var in sequence:\n",
    "> statements(s)\n",
    "\n",
    "out of loop"
   ]
  },
  {
   "cell_type": "code",
   "execution_count": null,
   "metadata": {},
   "outputs": [],
   "source": [
    "for i in range(0,5):\n",
    "    print('number is :',i+1)\n"
   ]
  },
  {
   "cell_type": "code",
   "execution_count": null,
   "metadata": {},
   "outputs": [],
   "source": [
    "friends = ['Joseph', 'Glenn', 'Sally']\n",
    "for friend in friends:\n",
    "    print('Happy New Year:', friend)\n",
    "#print('Done!')"
   ]
  },
  {
   "cell_type": "markdown",
   "metadata": {},
   "source": [
    "# Nested loop\n",
    "\n",
    "### Find prime numbers in a range of inputs"
   ]
  },
  {
   "cell_type": "code",
   "execution_count": null,
   "metadata": {},
   "outputs": [],
   "source": [
    "for num in range(2,50):     #to iterate between 10 to 20\n",
    "   for i in range(2,num):    #to iterate on the factors of the number\n",
    "      if num%i == 0:         #to determine the first factor\n",
    "         j=num/i             #to calculate the second factor\n",
    "         #print('%d equals %d * %d' % (num,i,j))\n",
    "         break #to move to the next number, the #first FOR\n",
    "   else:                  # else part of the loop\n",
    "      print(num,'is a prime number')"
   ]
  },
  {
   "cell_type": "markdown",
   "metadata": {},
   "source": [
    "## Find Max value"
   ]
  },
  {
   "cell_type": "code",
   "execution_count": null,
   "metadata": {},
   "outputs": [],
   "source": [
    "largest = None\n",
    "print('Before:', largest)\n",
    "for itervar in [3, 41, 12, 9, 74, 15]:\n",
    "    if largest is None or itervar > largest :\n",
    "        largest = itervar\n",
    "    print('Loop:', itervar, largest)\n",
    "print('Largest:', largest)"
   ]
  },
  {
   "cell_type": "markdown",
   "metadata": {},
   "source": [
    "# Find Min value"
   ]
  },
  {
   "cell_type": "code",
   "execution_count": null,
   "metadata": {},
   "outputs": [],
   "source": [
    "smallest = None\n",
    "print('Before:', smallest)\n",
    "for itervar in [3, 41, 12, 9, 74, 15]:\n",
    "    if smallest is None or itervar < smallest:\n",
    "        smallest = itervar\n",
    "    print('Loop:', itervar, smallest)\n",
    "print('Smallest:', smallest)"
   ]
  },
  {
   "cell_type": "markdown",
   "metadata": {},
   "source": []
  }
 ],
 "metadata": {
  "kernelspec": {
   "display_name": "Python 3",
   "language": "python",
   "name": "python3"
  },
  "language_info": {
   "codemirror_mode": {
    "name": "ipython",
    "version": 3
   },
   "file_extension": ".py",
   "mimetype": "text/x-python",
   "name": "python",
   "nbconvert_exporter": "python",
   "pygments_lexer": "ipython3",
   "version": "3.7.3"
  }
 },
 "nbformat": 4,
 "nbformat_minor": 4
}
